{
 "cells": [
  {
   "cell_type": "code",
   "execution_count": null,
   "id": "47b99b18-0419-426a-93d5-57a9192fb995",
   "metadata": {},
   "outputs": [],
   "source": []
  }
 ],
 "metadata": {
  "kernelspec": {
   "display_name": "",
   "name": ""
  },
  "language_info": {
   "name": ""
  }
 },
 "nbformat": 4,
 "nbformat_minor": 5
}
